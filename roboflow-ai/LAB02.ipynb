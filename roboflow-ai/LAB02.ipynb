{
  "cells": [
    {
      "cell_type": "markdown",
      "metadata": {
        "id": "cPlN_Ge_-Kv1"
      },
      "source": [
        "# Numpy Tutorial"
      ]
    },
    {
      "cell_type": "code",
      "execution_count": null,
      "metadata": {
        "id": "vtxMxr3c-Kv6"
      },
      "outputs": [],
      "source": [
        "# Install numpy using conda\n",
        "!conda install -c anaconda numpy\n",
        "# Or using pip\n",
        "!pip install numpy"
      ]
    },
    {
      "cell_type": "code",
      "execution_count": null,
      "metadata": {
        "id": "Qa50AnP8-Kv8"
      },
      "outputs": [],
      "source": [
        "import numpy as np"
      ]
    },
    {
      "cell_type": "markdown",
      "metadata": {
        "id": "u_MJf_Kj-Kv9"
      },
      "source": [
        "## Creating arrays"
      ]
    },
    {
      "cell_type": "code",
      "execution_count": null,
      "metadata": {
        "id": "4-ViUSWY-Kv9",
        "outputId": "9edde295-9b74-4d00-b2ad-5c842f516ba0"
      },
      "outputs": [
        {
          "name": "stdout",
          "output_type": "stream",
          "text": [
            "[3 2 5]\n",
            "[3 2 5]\n",
            "[1.+0.j 2.+0.j 4.+0.j]\n"
          ]
        }
      ],
      "source": [
        "# 1D arrays\n",
        "\n",
        "# creating python list\n",
        "list1 = [3,2,5]\n",
        "arr1 = np.array(list1, dtype=np.int16)\n",
        "print(arr1)\n",
        "\n",
        "# or\n",
        "arr1 = np.array([3,2,5])\n",
        "print(arr1)\n",
        "\n",
        "# creating arrays of complex numbers\n",
        "arr_complex = np.array([1,2,4], dtype= complex)\n",
        "print(arr_complex)"
      ]
    },
    {
      "cell_type": "code",
      "execution_count": null,
      "metadata": {
        "id": "UtR5t9xu-Kv-",
        "outputId": "6871f13f-2788-4219-f88f-f685fcf4d51f"
      },
      "outputs": [
        {
          "name": "stdout",
          "output_type": "stream",
          "text": [
            "[[1 2 3]\n",
            " [4 5 6]\n",
            " [7 8 9]]\n"
          ]
        }
      ],
      "source": [
        "# multi-dimensional array\n",
        "list_m = [[1,2,3], [4,5,6], [7,8,9]]\n",
        "arr_m = np.array(list_m, dtype=np.int16)\n",
        "print(arr_m)"
      ]
    },
    {
      "cell_type": "code",
      "execution_count": null,
      "metadata": {
        "id": "B-MSz3z5-Kv_",
        "outputId": "6866837b-a53a-41bb-8a22-56a4f891153f"
      },
      "outputs": [
        {
          "name": "stdout",
          "output_type": "stream",
          "text": [
            "[[0. 0.]\n",
            " [0. 0.]]\n",
            "[[1. 1. 1. 1.]]\n"
          ]
        }
      ],
      "source": [
        "# creating an array of all zeros\n",
        "arr_0 = np.zeros((2,2))\n",
        "print(arr_0)\n",
        "\n",
        "# creating an array of all ones\n",
        "arr_1 = np.ones((1,4))\n",
        "print(arr_1)"
      ]
    },
    {
      "cell_type": "code",
      "execution_count": null,
      "metadata": {
        "id": "9kGUnRvi-KwA",
        "outputId": "6825e0e0-9c11-4194-b96f-4e544002b811"
      },
      "outputs": [
        {
          "name": "stdout",
          "output_type": "stream",
          "text": [
            "[[7 7]\n",
            " [7 7]]\n",
            "[[7. 7.]\n",
            " [7. 7.]]\n",
            "float64\n"
          ]
        }
      ],
      "source": [
        "# creating a constant array\n",
        "arr_c = np.full((2,2), 7)\n",
        "print(arr_c)\n",
        "\n",
        "# or using np.ones\n",
        "arr_c = np.ones((2,2)) * 7\n",
        "print(arr_c)\n",
        "print(arr_c.dtype)"
      ]
    },
    {
      "cell_type": "code",
      "execution_count": null,
      "metadata": {
        "id": "_WnOou6_-KwB",
        "outputId": "52b63c6d-9c12-44a1-b4c5-377a38d7c8bb"
      },
      "outputs": [
        {
          "name": "stdout",
          "output_type": "stream",
          "text": [
            "[0.         0.83333333 1.66666667 2.5        3.33333333 4.16666667\n",
            " 5.        ]\n",
            "float64\n"
          ]
        }
      ],
      "source": [
        "# creating an array with start value, end value and number of values\n",
        "arr_L = np.linspace(0, 5, 7)\n",
        "print(arr_L)\n",
        "print(arr_L.dtype)"
      ]
    },
    {
      "cell_type": "code",
      "execution_count": null,
      "metadata": {
        "id": "KNhu3i1I-KwC",
        "outputId": "aed6c83b-3271-4cce-a876-f983f5ebc1bf"
      },
      "outputs": [
        {
          "name": "stdout",
          "output_type": "stream",
          "text": [
            "[1 3 5 7 9]\n",
            "int32\n"
          ]
        }
      ],
      "source": [
        "# creating an array with start value, end value\n",
        "# and number of values (dtype int)\n",
        "arr_a = np.arange(1, 10, 2)\n",
        "print(arr_a)\n",
        "print(arr_a.dtype)"
      ]
    },
    {
      "cell_type": "code",
      "execution_count": null,
      "metadata": {
        "id": "o4rWWS93-KwD",
        "outputId": "4430873c-90c5-4164-f407-971b05c6ad2b"
      },
      "outputs": [
        {
          "name": "stdout",
          "output_type": "stream",
          "text": [
            "[[0.85888927 0.37271115]\n",
            " [0.55512878 0.95565655]]\n"
          ]
        }
      ],
      "source": [
        "# an array filled with random values\n",
        "# np.random.seed(32)\n",
        "arr_r = np.random.random((2,2))\n",
        "print(arr_r)"
      ]
    },
    {
      "cell_type": "code",
      "execution_count": null,
      "metadata": {
        "id": "Tr7MXkSX-KwE",
        "outputId": "0f8ee6ed-a441-45bc-eb4c-1f09b6d177cf"
      },
      "outputs": [
        {
          "name": "stdout",
          "output_type": "stream",
          "text": [
            "[20 94 60 67 79 48 87]\n"
          ]
        }
      ],
      "source": [
        "# an array filled with random integers\n",
        "arr_1 = np.random.randint(10,100,7) # low (inclusive), high (exclusive), and number of values\n",
        "print(arr_1)"
      ]
    },
    {
      "cell_type": "code",
      "execution_count": null,
      "metadata": {
        "id": "ryWO5J-a-KwF",
        "outputId": "5340527b-cb6d-467a-b7d4-419a537ed838"
      },
      "outputs": [
        {
          "name": "stdout",
          "output_type": "stream",
          "text": [
            "[-1.62830331  0.96699774  0.05311559  0.28971293  0.06244434 -1.09812873\n",
            "  0.13053306 -0.18533706 -1.34073473 -0.32401968]\n"
          ]
        }
      ],
      "source": [
        "# an array filled with random values following the normal distribution.\n",
        "arr_n = np.random.randn(10)\n",
        "print(arr_n)"
      ]
    },
    {
      "cell_type": "code",
      "execution_count": null,
      "metadata": {
        "id": "hNxmipRI-KwG",
        "outputId": "629249ff-1dc6-434f-9dac-546d1a299f3a"
      },
      "outputs": [
        {
          "name": "stdout",
          "output_type": "stream",
          "text": [
            "[[1. 0.]\n",
            " [0. 1.]]\n"
          ]
        }
      ],
      "source": [
        "# create a 2x2 identity matrix\n",
        "arr_I = np.eye(2)\n",
        "print(arr_I)"
      ]
    },
    {
      "cell_type": "markdown",
      "metadata": {
        "id": "vKBE0Ozj-KwG"
      },
      "source": [
        "## Creating arrays from existing data"
      ]
    },
    {
      "cell_type": "code",
      "execution_count": null,
      "metadata": {
        "id": "JCS12Td--KwH",
        "outputId": "b5b41051-082b-4aaf-f81c-f85226df47b2"
      },
      "outputs": [
        {
          "name": "stdout",
          "output_type": "stream",
          "text": [
            "[1 2 3]\n",
            "[1 2 3]\n",
            "[(1, 2, 3) (4, 5)]\n"
          ]
        }
      ],
      "source": [
        "# converting list to ndarray\n",
        "x = [1,2,3]\n",
        "a = np.asarray(x)\n",
        "print(a)\n",
        "\n",
        "# ndarray from tuple\n",
        "y = (1,2,3)\n",
        "b = np.asarray(y)\n",
        "print(b)\n",
        "\n",
        "# ndarray from a list of tuples\n",
        "z = [(1,2,3), (4,5)]\n",
        "c = np.asarray(z)\n",
        "print(c)\n"
      ]
    },
    {
      "cell_type": "markdown",
      "metadata": {
        "id": "L83HLgL3-KwI"
      },
      "source": [
        "## Array attributes"
      ]
    },
    {
      "cell_type": "code",
      "execution_count": null,
      "metadata": {
        "id": "EwJ-nAs7-KwI",
        "outputId": "8227d807-5245-401a-c108-1be1af0ffd96"
      },
      "outputs": [
        {
          "name": "stdout",
          "output_type": "stream",
          "text": [
            "(2, 3)\n",
            "6\n",
            "2\n",
            "<class 'numpy.ndarray'>\n",
            "int32\n",
            "(3, 2)\n",
            "(1, 6)\n",
            "[[1 2 3]\n",
            " [4 5 6]]\n",
            "[[1 4]\n",
            " [2 5]\n",
            " [3 6]]\n"
          ]
        }
      ],
      "source": [
        "arr = np.array([[1,2,3],[4,5,6]])\n",
        "print(arr.shape)\n",
        "print(arr.size)    # returns the total number of elements in an array.\n",
        "print(arr.ndim)    # returns the number of array dimensions. \n",
        "print(type(arr))   # to check the variable type.\n",
        "print(arr.dtype)   # to check the data type or numeric type of the array.\n",
        "\n",
        "# resizing\n",
        "arr_1 = arr.reshape(3,2)\n",
        "print(arr_1.shape)\n",
        "\n",
        "arr_2 = arr.reshape(1,-1)\n",
        "print(arr_2.shape)\n",
        "\n",
        "# transpose\n",
        "print(arr)\n",
        "print(arr.T)"
      ]
    },
    {
      "cell_type": "markdown",
      "metadata": {
        "id": "pKyapBtL-KwJ"
      },
      "source": [
        "## Indexing and slicing"
      ]
    },
    {
      "cell_type": "code",
      "execution_count": null,
      "metadata": {
        "id": "UElldXnl-KwK",
        "outputId": "cf14b8a6-f479-4b45-d34a-c73557d8581b"
      },
      "outputs": [
        {
          "name": "stdout",
          "output_type": "stream",
          "text": [
            "[0 1 2 3 4 5 6 7 8 9]\n",
            "7\n",
            "7\n",
            "[0 1 2 3 4]\n",
            "[0 1 2 3 4 5]\n",
            "[9]\n",
            "[9]\n",
            "[6 7 8]\n",
            "[2 4 6 8]\n",
            "[0 2 4 6 8]\n",
            "[9 8 7 6 5 4 3 2 1 0]\n"
          ]
        }
      ],
      "source": [
        "arr = np.arange(10)\n",
        "print(arr)\n",
        "\n",
        "print(arr[7])\n",
        "# or\n",
        "print(arr[-3])\n",
        "\n",
        "print(arr[:5])\n",
        "print(arr[:-4])\n",
        "\n",
        "print(arr[9:])\n",
        "# or\n",
        "print(arr[-1:])\n",
        "\n",
        "print(arr[-4:-1])\n",
        "\n",
        "# slicing with a step\n",
        "print(arr[2:-1:2])\n",
        "\n",
        "# omitted indices\n",
        "print(arr[::2])\n",
        "print(arr[::-1])    # reverse order"
      ]
    },
    {
      "cell_type": "code",
      "execution_count": null,
      "metadata": {
        "id": "RvN7eGXi-KwK",
        "outputId": "844f1f7b-315c-4451-a773-aa4e74fab497"
      },
      "outputs": [
        {
          "name": "stdout",
          "output_type": "stream",
          "text": [
            "[[1 2 3]\n",
            " [3 4 5]\n",
            " [4 5 6]]\n",
            "[[1 2 3]]\n",
            "[[3 4 5]\n",
            " [4 5 6]]\n",
            "[[1]\n",
            " [3]\n",
            " [4]]\n",
            "[[1]\n",
            " [3]\n",
            " [4]]\n"
          ]
        }
      ],
      "source": [
        "# multi-dimensional arrays\n",
        "arr = np.array([[1,2,3], [3,4,5], [4,5,6]])\n",
        "print(arr)\n",
        "\n",
        "# slicing first row\n",
        "print(arr[0:1])\n",
        "\n",
        "# slicing last 2 rows\n",
        "print(arr[-2:])\n",
        "\n",
        "# slicing 3 rows and first column\n",
        "print(arr[0:3,0:1])\n",
        "# or\n",
        "print(arr[:3,:1])"
      ]
    },
    {
      "cell_type": "markdown",
      "metadata": {
        "id": "9bQ5ZcSl-KwL"
      },
      "source": [
        "## Basic math operations"
      ]
    },
    {
      "cell_type": "code",
      "execution_count": null,
      "metadata": {
        "id": "1lqrJM6q-KwL",
        "outputId": "260aa7e5-a1b4-408d-9d4a-36a4fee613d0"
      },
      "outputs": [
        {
          "name": "stdout",
          "output_type": "stream",
          "text": [
            "[ 3  6  9 12]\n"
          ]
        },
        {
          "data": {
            "text/plain": [
              "array([ 3,  6,  9, 12])"
            ]
          },
          "execution_count": 60,
          "metadata": {},
          "output_type": "execute_result"
        }
      ],
      "source": [
        "arr_1 = np.array([1, 2, 3, 4])\n",
        "arr_2 = np.array([2, 4, 6, 8])\n",
        "# Add values\n",
        "print(arr_1 + arr_2)\n",
        "# or\n",
        "np.add(arr_1 ,arr_2)"
      ]
    },
    {
      "cell_type": "code",
      "execution_count": null,
      "metadata": {
        "id": "xRvNxDfd-KwM",
        "outputId": "4c0f43b0-c64d-488b-c8df-007520664585"
      },
      "outputs": [
        {
          "name": "stdout",
          "output_type": "stream",
          "text": [
            "[-1 -2 -3 -4]\n"
          ]
        },
        {
          "data": {
            "text/plain": [
              "array([-1, -2, -3, -4])"
            ]
          },
          "execution_count": 61,
          "metadata": {},
          "output_type": "execute_result"
        }
      ],
      "source": [
        "# Subtract\n",
        "print(arr_1 - arr_2)\n",
        "# or\n",
        "np.subtract(arr_1 ,arr_2)"
      ]
    },
    {
      "cell_type": "code",
      "execution_count": null,
      "metadata": {
        "id": "lW-Tq46f-KwN",
        "outputId": "52e706f2-ba96-4751-8767-c313fc30c1e4"
      },
      "outputs": [
        {
          "name": "stdout",
          "output_type": "stream",
          "text": [
            "[ 2  8 18 32]\n"
          ]
        },
        {
          "data": {
            "text/plain": [
              "array([ 2,  8, 18, 32])"
            ]
          },
          "execution_count": 62,
          "metadata": {},
          "output_type": "execute_result"
        }
      ],
      "source": [
        "# Multiply\n",
        "print(arr_1 * arr_2)\n",
        "# or\n",
        "np.multiply(arr_1 ,arr_2)"
      ]
    },
    {
      "cell_type": "code",
      "execution_count": null,
      "metadata": {
        "id": "3Cnyoi-B-KwN",
        "outputId": "2d7d02eb-e151-42e9-b97e-53f8521736e6"
      },
      "outputs": [
        {
          "name": "stdout",
          "output_type": "stream",
          "text": [
            "[0.5 0.5 0.5 0.5]\n"
          ]
        },
        {
          "data": {
            "text/plain": [
              "array([0.5, 0.5, 0.5, 0.5])"
            ]
          },
          "execution_count": 63,
          "metadata": {},
          "output_type": "execute_result"
        }
      ],
      "source": [
        "# Divide\n",
        "print(arr_1 / arr_2)\n",
        "# or\n",
        "np.divide(arr_1,arr_2)"
      ]
    },
    {
      "cell_type": "code",
      "execution_count": null,
      "metadata": {
        "id": "qlCIGO3H-KwN",
        "outputId": "e00aae57-b3db-4e51-887d-d3b73792ddaf"
      },
      "outputs": [
        {
          "name": "stdout",
          "output_type": "stream",
          "text": [
            "[[60 78 92]\n",
            " [89 62 82]]\n",
            "\n",
            "10\n",
            "\n",
            "[149 140 174]\n",
            "\n",
            "[[ 60 138 230]\n",
            " [ 89 151 233]]\n"
          ]
        }
      ],
      "source": [
        "# Random 2 by 3 digit 2D array between 0 to 100\n",
        "arr_3 =np.random.randint(100, size=(2, 3))\n",
        "print(arr_3)\n",
        "print()\n",
        "\n",
        "# Sum of values in array\n",
        "print(arr_1.sum())\n",
        "print()\n",
        "\n",
        "# Sum columns\n",
        "print(arr_3.sum(axis=0))\n",
        "print()\n",
        "\n",
        "# Cumulative sum of rows\n",
        "print(arr_3.cumsum(axis=1))"
      ]
    },
    {
      "cell_type": "code",
      "execution_count": null,
      "metadata": {
        "id": "hC1mvF82-KwN",
        "outputId": "98df0871-5d0c-49e8-affa-90409e7664af"
      },
      "outputs": [
        {
          "name": "stdout",
          "output_type": "stream",
          "text": [
            "[[62 96 50]\n",
            " [87 26 42]]\n",
            "[50 26]\n",
            "[87 96 50]\n",
            "[1 2]\n"
          ]
        }
      ],
      "source": [
        "# Min and max values from array\n",
        "arr=np.array([[62, 96, 50],\n",
        "       [87, 26, 42]])\n",
        "print(arr)\n",
        "\n",
        "# Min of each row\n",
        "print(arr.min(axis=1))\n",
        "\n",
        "# Max of each column\n",
        "print(arr.max(axis=0))\n",
        "\n",
        "# Absolute value of every element\n",
        "print(np.absolute([-1,-2]))\n"
      ]
    },
    {
      "cell_type": "markdown",
      "metadata": {
        "id": "CBadkdkr-KwO"
      },
      "source": [
        "## Linear Algebra"
      ]
    },
    {
      "cell_type": "code",
      "execution_count": null,
      "metadata": {
        "id": "Zn9oSqM_-KwO",
        "outputId": "4249aebe-13f3-42df-bff5-9602ca50f862"
      },
      "outputs": [
        {
          "name": "stdout",
          "output_type": "stream",
          "text": [
            "[[0.1565324  0.8933882  0.01109693]\n",
            " [0.76347618 0.77305726 0.57279222]]\n",
            "[[0.98148999 0.00867733 0.14020093 0.21361893]\n",
            " [0.46732004 0.80811245 0.60119557 0.41356072]\n",
            " [0.36902067 0.68852574 0.62160303 0.78923097]]\n",
            "\n",
            "(2, 4)\n"
          ]
        }
      ],
      "source": [
        "a = np.random.random((2,3))\n",
        "b = np.random.random((3,4))\n",
        "print(a)\n",
        "print(b)\n",
        "print()\n",
        "\n",
        "c = np.dot(a,b)\n",
        "print(c.shape)"
      ]
    },
    {
      "cell_type": "code",
      "execution_count": null,
      "metadata": {
        "id": "s8Xn8cIl-KwP",
        "outputId": "66896b32-96dc-4852-9092-9fbb5001b713"
      },
      "outputs": [
        {
          "name": "stdout",
          "output_type": "stream",
          "text": [
            "[9 4 3]\n",
            "10.295630140987\n",
            "(2, 3)\n",
            "[ 8.15537134 10.24858816]\n",
            "(2,)\n"
          ]
        }
      ],
      "source": [
        "from numpy import linalg\n",
        "x = np.random.randint(0, 10, 3)\n",
        "print(x)\n",
        "\n",
        "print(linalg.norm(x))  # second-order, also same as vector length \n",
        "\n",
        "A = np.random.random((2,3))\n",
        "print(A.shape)\n",
        "\n",
        "b = np.dot(A,x)\n",
        "print(b)\n",
        "print(b.shape)\n"
      ]
    },
    {
      "cell_type": "code",
      "execution_count": null,
      "metadata": {
        "id": "ogXy0HLw-KwP",
        "outputId": "c4c2d033-776c-42a6-9599-56dee4370458"
      },
      "outputs": [
        {
          "name": "stdout",
          "output_type": "stream",
          "text": [
            "[ 9.0777615 32.5729419]\n"
          ]
        }
      ],
      "source": [
        "# Solve a linear system Av = b\n",
        "A = np.random.random((2,2))\n",
        "v = linalg.solve(A,b)    # A should be invertible and square\n",
        "print(v)"
      ]
    },
    {
      "cell_type": "code",
      "execution_count": null,
      "metadata": {
        "id": "OxD7nKHZ-KwQ",
        "outputId": "7f107546-5a8a-4aa7-bdeb-f326ba9f2256"
      },
      "outputs": [
        {
          "name": "stdout",
          "output_type": "stream",
          "text": [
            "[0.84639773 0.30332913]\n",
            "[[ 0.99768419 -0.02723847]\n",
            " [ 0.06801653  0.99962896]]\n"
          ]
        }
      ],
      "source": [
        "eigvals, eigvecs = linalg.eig(A)\n",
        "print(eigvals)\n",
        "print(eigvecs)"
      ]
    }
  ],
  "metadata": {
    "kernelspec": {
      "display_name": "Python 3",
      "language": "python",
      "name": "python3"
    },
    "language_info": {
      "codemirror_mode": {
        "name": "ipython",
        "version": 3
      },
      "file_extension": ".py",
      "mimetype": "text/x-python",
      "name": "python",
      "nbconvert_exporter": "python",
      "pygments_lexer": "ipython3",
      "version": "3.7.7"
    },
    "colab": {
      "name": "LAB02.ipynb",
      "provenance": []
    }
  },
  "nbformat": 4,
  "nbformat_minor": 0
}