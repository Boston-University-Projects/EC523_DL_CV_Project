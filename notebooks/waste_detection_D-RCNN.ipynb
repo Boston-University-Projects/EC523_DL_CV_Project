{
 "cells": [
  {
   "cell_type": "markdown",
   "metadata": {},
   "source": [
    "## Waste Detection With Dynamic R-CNN\n",
    "This notebook contains instructions on training Dynamic R-CNN to perform object detection on the [ZeroWaste](https://github.com/dbash/zerowaste) dataset. Our goal is to train a customized Dynamic R-CNN network to efficiently and accurately identify different waste objects in a setting that highly resembles environment of a real waste recycle center.\n",
    "Our implmentation is based on MMdetection, which is an object detection toolbox that contains a rich set of object detection and instance segmentation methods as well as related components and modules.  \n",
    "\n",
    "__Important Note__: The commands given in this notebook is recommended to be run in an actual terminal as some commands may print very long logs."
   ]
  },
  {
   "cell_type": "markdown",
   "metadata": {},
   "source": [
    "### 1. Environment Setup\n",
    "1. __Connecting to SCC__  \n",
    "Please the README file in our repo for instructions on how to connect to an SCC server and start jupyter lab on the SCC.  \n",
    "2. __Load necessary modules__  \n",
    "type the following command to load necessary modules on the SCC and reserved a GPU node\n",
    "    ```\n",
    "    module load cuda/9.2\n",
    "    module load python3/3.8.10\n",
    "    ```\n",
    "\n"
   ]
  },
  {
   "cell_type": "markdown",
   "metadata": {},
   "source": [
    "### 2. Getting Ready for Training\n",
    "Before we train the network, there are several configurations we need to do."
   ]
  },
  {
   "cell_type": "markdown",
   "metadata": {},
   "source": [
    "__Installing Dependencies__:  \n",
    "We first need to install the correct pytorch version. Run the following command to install pytorch:"
   ]
  },
  {
   "cell_type": "code",
   "execution_count": null,
   "metadata": {},
   "outputs": [],
   "source": [
    "!pip install torch==1.7.0 --user"
   ]
  },
  {
   "cell_type": "markdown",
   "metadata": {},
   "source": [
    "Then, we have to install the MMdetection toolbox. Please follow the steps below:  "
   ]
  },
  {
   "cell_type": "markdown",
   "metadata": {},
   "source": [
    "1. Run the following command to install mmcv:"
   ]
  },
  {
   "cell_type": "code",
   "execution_count": null,
   "metadata": {},
   "outputs": [],
   "source": [
    "!pip install mmcv-full -f https://download.openmmlab.com/mmcv/dist/cu92/torch1.7.0/index.html"
   ]
  },
  {
   "cell_type": "markdown",
   "metadata": {},
   "source": [
    "2. Clone the MMdetection repo under the project folder:\n"
   ]
  },
  {
   "cell_type": "code",
   "execution_count": null,
   "metadata": {},
   "outputs": [],
   "source": [
    "!git clonehttps://github.com/open-mmlab/mmdetection.git"
   ]
  },
  {
   "cell_type": "markdown",
   "metadata": {},
   "source": [
    "3. cd into the mmdetection folder:"
   ]
  },
  {
   "cell_type": "code",
   "execution_count": null,
   "metadata": {},
   "outputs": [],
   "source": [
    "%cd mmdetection"
   ]
  },
  {
   "cell_type": "markdown",
   "metadata": {},
   "source": [
    "4. Install the necessary dependencies needed to use the MMdetection toolbox:"
   ]
  },
  {
   "cell_type": "code",
   "execution_count": null,
   "metadata": {},
   "outputs": [],
   "source": [
    "!pip install -r requirements/build.txt"
   ]
  },
  {
   "cell_type": "markdown",
   "metadata": {},
   "source": [
    "5. Set up the development environment:"
   ]
  },
  {
   "cell_type": "code",
   "execution_count": null,
   "metadata": {},
   "outputs": [],
   "source": [
    "!python setup.py develop"
   ]
  },
  {
   "cell_type": "markdown",
   "metadata": {},
   "source": [
    "After setting up the environment, we need to load our dataset `ZeroWaste-f` into the directory named `data` under the `mmdetection` folder. After this step, we have completed the preparation needed for training.\n"
   ]
  },
  {
   "cell_type": "markdown",
   "metadata": {},
   "source": [
    "### Running Dynamic R-CNN\n",
    "The MMdetection toolbox allows us to customize our training configuration, so we need a configuration file to tell the model where our data is and what training policy it should execute. We have prepared a config file named `dynamic_rcnn_r50_fpn_1x_zerowaste.py` that contains all the configurations needed for training."
   ]
  },
  {
   "cell_type": "markdown",
   "metadata": {},
   "source": [
    "To train the model, we run the following command inside the `mmdetection` directory:"
   ]
  },
  {
   "cell_type": "code",
   "execution_count": null,
   "metadata": {},
   "outputs": [],
   "source": [
    "!python tools/train.py configs/dynamic_rcnn/dynamic_rcnn_r50_fpn_1x_zerowaste.py"
   ]
  },
  {
   "cell_type": "markdown",
   "metadata": {},
   "source": [
    "For each epoch i during the training process, the program will generate a file containing parameters of this model for this epoch i called `epoch_{i}.pth` in the `work_dirs` folder"
   ]
  },
  {
   "cell_type": "markdown",
   "metadata": {},
   "source": [
    "To test the model after training, please run the following command:"
   ]
  },
  {
   "cell_type": "code",
   "execution_count": null,
   "metadata": {},
   "outputs": [],
   "source": [
    "!python tools/test.py configs/dynamic_rcnn/dynamic_rcnn_r50_fpn_1x_zerowaste.py work_dirs/dynamic_rcnn_r50_fpn_1x_zerowaste/epoch_{i}.pth --out ./result/result_10.pkl --eval bbox --show"
   ]
  },
  {
   "cell_type": "markdown",
   "metadata": {},
   "source": [
    "We need to pass in a specific epoch `i` to load the weight learned after a specific training epoch. After testing, the model will output the result like the following image:"
   ]
  },
  {
   "cell_type": "markdown",
   "metadata": {},
   "source": [
    "![test result](../../images/DRCNN_result.jpeg)"
   ]
  },
  {
   "cell_type": "markdown",
   "metadata": {},
   "source": []
  }
 ],
 "metadata": {
  "language_info": {
   "name": "python"
  },
  "orig_nbformat": 4
 },
 "nbformat": 4,
 "nbformat_minor": 2
}
